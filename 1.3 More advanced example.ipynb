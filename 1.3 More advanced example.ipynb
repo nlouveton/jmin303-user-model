{
 "cells": [
  {
   "cell_type": "markdown",
   "metadata": {},
   "source": [
    "# 1.3 More advanced example\n",
    "\n",
    "Now we are going to work a much more complex example.\n",
    "\n",
    "Have a look to the following study:\n",
    "\n",
    "[Paper about the datasets](./papers/human-activity-smart-devices.pdf)\n",
    "\n",
    "The datasets described in this paper are the following (in the ``data`` folder):\n",
    "* ``enjmin_aglasses.csv``\n",
    "* ``enjmin_aphone.csv``\n",
    "* ``enjmin_awatch.csv``\n",
    "\n",
    "**What you have to do**\n",
    "\n",
    "Load the datasets and start exploring the data using what you have learn so far.\n",
    "\n",
    "Your objective will be to build a notebook to present what you have learnt from this data. At the end of ythis tutorial, you will export your notebook. You will receive a mark on your work based on the following criteria:\n",
    "* Rigourous and clear presentation your work\n",
    "* Relevance of analyses and visualization\n",
    "* Originality of the questions you try to adress\n",
    "* Relevance of your conclusions about your work\n",
    "\n",
    "**Be careful, you are working on a virtual machine: if you close your browser the VM will die. You can save your work as raw python code to be sure not loosing data.**"
   ]
  },
  {
   "cell_type": "code",
   "execution_count": null,
   "metadata": {},
   "outputs": [],
   "source": [
    "# You start here..."
   ]
  }
 ],
 "metadata": {
  "kernelspec": {
   "display_name": "Python 3",
   "language": "python",
   "name": "python3"
  },
  "language_info": {
   "codemirror_mode": {
    "name": "ipython",
    "version": 3
   },
   "file_extension": ".py",
   "mimetype": "text/x-python",
   "name": "python",
   "nbconvert_exporter": "python",
   "pygments_lexer": "ipython3",
   "version": "3.6.5"
  }
 },
 "nbformat": 4,
 "nbformat_minor": 2
}
